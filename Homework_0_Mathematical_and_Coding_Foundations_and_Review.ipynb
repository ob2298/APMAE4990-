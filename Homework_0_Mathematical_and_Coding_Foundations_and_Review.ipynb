{
  "nbformat": 4,
  "nbformat_minor": 0,
  "metadata": {
    "colab": {
      "name": "Homework 0 - Mathematical and Coding Foundations and Review.ipynb",
      "version": "0.3.2",
      "provenance": [],
      "include_colab_link": true
    },
    "kernelspec": {
      "display_name": "Python 3",
      "language": "python",
      "name": "python3"
    }
  },
  "cells": [
    {
      "cell_type": "markdown",
      "metadata": {
        "id": "view-in-github",
        "colab_type": "text"
      },
      "source": [
        "<a href=\"https://colab.research.google.com/github/ob2298/APMAE4990-/blob/master/Homework_0_Mathematical_and_Coding_Foundations_and_Review.ipynb\" target=\"_parent\"><img src=\"https://colab.research.google.com/assets/colab-badge.svg\" alt=\"Open In Colab\"/></a>"
      ]
    },
    {
      "metadata": {
        "id": "MaWAEgb3mD61",
        "colab_type": "text"
      },
      "cell_type": "markdown",
      "source": [
        "## Problem 1: Set up Github and clone assignment repo. \n",
        "\n",
        "- Go to http://www.github.com and create an account.\n",
        "- Send your Github username to dg2991@columbia.edu.\n",
        "- Install Git - https://github.com/blog/1510-installing-git-from-github-for-mac. Make sure to install command line tools. \n",
        "- Click on this link: https://classroom.github.com/a/Xk990Gdv\n",
        "- Follow the instructions to clone that repo to your local machine.\n",
        "- You should type a command like: \n",
        "\n",
        "```$ git clone https://github.com/Columbia-Intro-Data-Science/apmae4990-hw-project-{your-git-username}```\n",
        "\n",
        "\n",
        "**Next:** Solve the problems directly in this notebook, and then push to the repo above (not to the course repo!). This is where you will store all of your homework and your final project. \n",
        "\n",
        "\n",
        "The process should be to create a copy of this notebook, move it into the folder you created above. Then do this:\n",
        "\n",
        "``` $ cd apmae4990-hw-project-{your-git-username} ```\n",
        "\n",
        "``` $ git add myhomeworksolutions.ipynb ```\n",
        "\n",
        "``` $ git commit -m \"added my homework 1 solutions\" ```\n",
        "\n",
        "``` $ git push origin master $ ```\n",
        "\n",
        "**Writing to the notebook:** To write code in this notebook, you can create a new cell directly below the problem. Either click `Insert -> Insert Cell Below` or type `CTRL-M` **then** `B`.\n",
        "\n",
        "\n",
        "### Very important!!\n",
        "\n",
        "Do not expect to understand every single import statement or piece of code when you first start. You should always think about what your goal is, and try to figure out how to do it yourself. However in many cases it is much easier to simply search stack overflow for the *right* way to do something. You are free to do this and do not need to include any references. This is largely how engineers and data scientists discover things in practice when they are unfamiliar with a topic. \n",
        "\n",
        "\n",
        "---\n",
        "\n"
      ]
    },
    {
      "metadata": {
        "id": "5l8Y9o_ImD64",
        "colab_type": "text"
      },
      "cell_type": "markdown",
      "source": [
        "## Problem 1: Gradients and Hessians"
      ]
    },
    {
      "metadata": {
        "id": "ysrxUOkRmD65",
        "colab_type": "text"
      },
      "cell_type": "markdown",
      "source": [
        "Recall the definition of the gradient $\\nabla f(x)$  of a function $f: \\mathbb{R}^n \\to \\mathbb{R}$ which is the n-vector of partial derivatives \n",
        "$$\\nabla f = \\begin{pmatrix}\\frac{\\partial f}{\\partial x_1}\\\\ \\vdots \\\\ \\frac{\\partial f}{\\partial x_n}\\end{pmatrix}  \\; \\textrm{ where } x=\\begin{pmatrix}x_1 \\\\ \\vdots \\\\ x_n\\end{pmatrix}$$\n",
        "\n",
        "\n",
        "\n",
        "\n"
      ]
    },
    {
      "metadata": {
        "id": "U2vFks-7mD66",
        "colab_type": "text"
      },
      "cell_type": "markdown",
      "source": [
        "$$D^2f = \\begin{pmatrix}\\frac{\\partial^2f}{\\partial x_1 \\partial x_1} & \\cdots & \\frac{\\partial^2f}{\\partial x_1 \\partial x_n} \\\\ \\vdots & \\ddots & \\vdots \\\\ \\frac{\\partial^2f}{\\partial x_n \\partial x_1} & \\cdots & \\frac{\\partial^2f}{\\partial x_n \\partial x_n}\\end{pmatrix} $$"
      ]
    },
    {
      "metadata": {
        "id": "Icmjjb6_mD7A",
        "colab_type": "text"
      },
      "cell_type": "markdown",
      "source": [
        "**[5 points]** a) Let $f(x) = \\frac{1}{2} x^TAx + b^Tx$ where $A \\in \\mathbb{R}^{n \\times n}$ is a symmetric matrix and $b \\in \\mathbb{R}^n$ is a vector.  What is $\\nabla f(x)$?\n",
        "\n",
        "**Solution a:** Because: $\\frac {d}{dx} x^{T}Ax = x^{T}(A+A^{T})$, $$\\nabla f(x) = \\frac{1}{2} x^T(A+A^T)+b $$\n",
        "\n",
        "Since $A$ is symmetric, $A=A^T$, therefore: $$\\nabla f(x) = \\frac{1}{2} x^T2A+b =x^TA+b $$\n",
        "\n",
        "**[5 points]** b) Let f(x) = g(h(x)), where $g: \\mathbb{R} \\to \\mathbb{R}$ is differentiable and $h:\\mathbb{R}^n \\to \\mathbb{R}$ is differentiable. What is $\\nabla f(x)$?\n",
        "\n",
        "**Solution b:** $$\\nabla f(x) = g'(h(x))\\cdot\\nabla h(x) $$\n",
        "\n",
        "**[5 points]** c) Let $f(x) = \\frac{1}{2}x^T Ax + b^Tx$ where $A$ and $b$ are as above. What is $D^2f(x)$?\n",
        "\n",
        "**Solution c:** $$D^2 f(x) = \\frac{1}{2} \\frac{dx^T}{dx} (A+A^T) +\\frac{d}{dx} b = \\frac{1}{2} (A+A^t) $$\n",
        "\n",
        "**[10 points]** d) Show that the product rule holds for the inner product in $\\mathbb{R}^n$. More precisely, let $f:\\mathbb{R}^k \\to \\mathbb{R}^n$ and $g:\\mathbb{R}^k \\to \\mathbb{R}^n$. Show that\n",
        "\n",
        "$$\\nabla \\langle F(\\beta), G(\\beta) \\rangle = \\langle \\nabla F(\\beta), G(\\beta) \\rangle + \\langle F(\\beta), \\nabla G(\\beta) \\rangle. $$\n",
        "\n",
        "You should write out the above in component form and compute $\\partial_{\\beta_j} F_i(\\beta)$ where $F = \\langle F_1(\\beta), F_2(\\beta), \\cdots, F_n(\\beta) \\rangle$. Then use the normal scalar product rule. Here $F$ and $G$ are functions of $\\beta \\in \\mathbb{R}^k$. \n",
        "\n",
        "**Solution d: this is the old version of the HW, for some reason my computer would not let me replace it with the new version. However, I looked at the correct version on GitHub while answering this question.  **\n",
        "\n",
        "$$\\nabla (F(\\beta))^T \\cdot G(\\beta) = \\nabla \\sum_{i=1}^n F_i(\\beta)G_i(\\beta)$$\n",
        "$$\\nabla \\sum_{i=1}^n F_i(\\beta)G_i(\\beta) = \\sum_{i=1}^n \\frac{d}{dx_i}F_i(\\beta)G_i(\\beta)$$\n",
        "\n",
        "By chain rule: \n",
        "\n",
        "$$\\sum_{i=1}^n \\frac{d}{dx_i}F_i(\\beta)G_i(\\beta)= \\sum_{i=1}^n \\frac{dF_i(\\beta)}{dx_i}G_i(\\beta) +\\sum_{i=1}^n \\frac{dG_i(\\beta)}{dx_i}F_i(\\beta) $$\n",
        "\n",
        "Thus: \n",
        "\n",
        "$$\\nabla (F(\\beta))^T \\cdot G(\\beta) = \\nabla F(\\beta)\\cdot G(\\beta)^T +\\nabla G(\\beta) \\cdot F(\\beta)^T$$\n",
        "\n",
        "\n"
      ]
    },
    {
      "metadata": {
        "id": "KXIO1ZK3_FTu",
        "colab_type": "code",
        "colab": {}
      },
      "cell_type": "code",
      "source": [
        ""
      ],
      "execution_count": 0,
      "outputs": []
    },
    {
      "metadata": {
        "id": "W9nWwghKmD7J",
        "colab_type": "text"
      },
      "cell_type": "markdown",
      "source": [
        "## Problem 2: Vector calculus for linear regression\n",
        "\n",
        "Let $\\mathbf{Y} \\in \\mathbb{R}^n$, $\\mathbf{X} \\in \\mathbb{R}^{n \\times k}$ and $\\beta \\in \\mathbb{R}^k$. Specifically, \n",
        "\n",
        "$$ \\mathbf{X} = \\begin{pmatrix}x_{11} & \\cdots & x_{1k} \\\\ \\vdots & \\ddots & \\vdots \\\\ x_{n1} & \\cdots & x_{nk}\\end{pmatrix} \\textrm{ and }  \\mathbf{Y}=\\begin{pmatrix}y_1 \\\\ \\vdots \\\\ y_n\\end{pmatrix} $$\n",
        "\n",
        "\n",
        "\n",
        "Here we imagine that $\\mathbf{Y}$ is a vector of observations of a quantity we wish to model, and $\\mathbf{X}$ is a matrix with $k$ features. For instance $\\mathbf{Y}$ is the vector of the number of units sold of an item, and $\\mathbf{X}$ is a matrix with each row corresponding to a sale, and the amount of advertising revue from different channels being represented by the columns. We seek to model $\\mathbf{Y}$ as a linear function of $\\mathbf{X}$. In other words, we wish to find $\\beta$ which solves:\n",
        "\n",
        "$$ \\min_{\\beta} \\|\\mathbf{Y} - \\mathbf{X} \\beta\\|^2$$\n",
        "\n",
        "**[10 points]** a) Assume that $\\mathbf{X}$ is orthonormal. That is, we denote \n",
        "\n",
        "$$\\mathbf{X} = [ \\mathbf{x}_1 \\cdots \\mathbf{x}_k],$$\n",
        "then $$\\mathbf{x_i} \\cdot \\mathbf{x_j} = \\delta_{ij}.$$\n",
        "\n",
        "where $\\delta_{ij} = 1$ if and only if $i=j$ and is $0$ otherwise. This is known as the **Kronecker delta** function.\n",
        "\n",
        "Initially you have $k < n$, but you decide that more information should be better. As a result, you add in an additional $n-k$ orthnormal features, so that $k=n$. Under these assumptions, what is the solution to the above minimization problem in terms of $\\mathbf X$? Did it depend on which orthnormal features you added? Why would this make you suspicious?\n",
        "\n",
        "**Note:** *Do not take any derivatives for this problem. Solve the problem directly by observation and state what the value of the minimum value of the loss is for this beta. *\n",
        "\n",
        "**Hint:** What do you know about the invertibility of orthonormal matricies? Also, this is not a trick question. The following may be helpful: https://en.wikipedia.org/wiki/Orthogonal_matrix\n",
        "\n",
        "**Solution a:** $$ \\|\\mathbf{Y} - \\mathbf{X}\\beta\\|^2 = 0 $$\n",
        "\n",
        "$$ 0 = \\mathbf{Y} - \\mathbf{X}\\beta\\ $$\n",
        "$$ \\mathbf{Y} = \\mathbf{X}\\beta\\ $$\n",
        "$$ \\beta\\ = \\mathbf{Y} \\mathbf{X}^{-1} $$\n",
        "\n",
        "This depended on the fact that the norm cannot be negative, because of the orthonormal features. In order for a matrix to be orthogonal, its inverse must equal its transpose. \n",
        "\n",
        "**[10 points]** b) Let's keep the orthnormal assumption but assume now that $k$ can take on any value $k > 1$. By writing \n",
        "\n",
        "$$F(\\beta) := \\|\\mathbf{Y} - \\mathbf{X} \\beta\\|^2 = \\langle \\mathbf{Y} - \\mathbf{X} \\beta, \\mathbf{Y} - \\mathbf{X} \\beta \\rangle,$$\n",
        "\n",
        "where $\\langle, \\rangle$ denotes the vector dot product, compute $\\nabla F(\\beta)$ and set it zero. Use this to find the optimal $\\beta$. What property of $\\mathbf X^T\\mathbf X$ did you need to use here? Is this consistent with your answer to a) when $k=n$?\n",
        "\n",
        "**Hint:** The product rule holds for inner products that you proved in Problem 1d), ie.\n",
        "\n",
        "**Solution b:** \n",
        "$$\\nabla F(\\beta) = \\nabla (\\langle \\mathbf{Y} - \\mathbf{X} \\beta, \\mathbf{Y} - \\mathbf{X} \\beta \\rangle) $$\n",
        "\n",
        "$$\\nabla F(\\beta) = 2 \\langle\\mathbf X,\\mathbf{Y} - \\mathbf{X} \\beta\\rangle = 0 $$\n",
        "$$ \\mathbf{X}^T (\\mathbf{Y} - \\mathbf{X}\\beta) = 0$$\n",
        "$$\\mathbf{X}^T\\mathbf{Y}-\\mathbf{X}^T\\mathbf{X}\\beta = 0  $$\n",
        "$$\\mathbf{X}^T\\mathbf{Y}=\\mathbf{X}^T\\mathbf{X}\\beta$$\n",
        "$$\\mathbf{Y}\\mathbf{X}^{-1}=\\beta$$\n",
        "\n",
        "Because it is a orthogonol matrix, $A^{-1}=A^T$:\n",
        "$$\\mathbf{Y}\\mathbf{X}^{T}=\\beta$$\n",
        "\n",
        "You had to use the matrix property of $\\mathbf{X}^T\\mathbf{X}$. Yes this is consistent with the answer for (a). \n",
        "\n",
        "**[10 points]** c) You decide to penalize the coefficients as a result of your answer to a). As such, you define \n",
        "\n",
        "$$ F_{\\lambda}(\\beta) := \\|\\mathbf{Y} - \\mathbf{X} \\beta\\|^2 + \\lambda \\|\\beta\\|^2. $$\n",
        "\n",
        "Show that the solution to $\\min_{\\beta} F_{\\lambda}(\\beta)$ is \n",
        "\n",
        "$$\\beta = (\\mathbf X^T\\mathbf X +\\lambda I)^{-1} \\mathbf X^Ty.$$\n",
        "\n",
        "What happens as $\\lambda \\to +\\infty$? (You can make a heuristic argument. Rigorous proofs aren't required but a convincing answer is). This new constrained minimization problem is well known and called **Ridge Regression**. Given your answer to part a), can you suggest a reason why we may want to consider this problem instead?\n",
        "\n",
        "**Solution c:** $$\\nabla F_{\\lambda}(\\beta)=\\nabla\\|\\mathbf{Y} - \\mathbf{X} \\beta\\|^2 + \\nabla\\lambda \\|\\beta\\|^2 = 0 $$\n",
        "\n",
        "$$\\nabla F_{\\lambda}(\\beta)=-2\\langle\\mathbf{X}, \\mathbf{Y}-\\mathbf{X}\\beta\\rangle +\\lambda\\nabla|\\beta\\|^2=0$$\n",
        "$$\\nabla F_{\\lambda}(\\beta)=-2\\langle\\mathbf{X}, \\mathbf{Y}-\\mathbf{X}\\beta\\rangle +2\\lambda\\beta = 0$$\n",
        "\n",
        "$$-(\\mathbf{X}^T\\mathbf{Y}-\\mathbf{X}^T\\mathbf{X}\\beta) +\\lambda\\beta= 0  $$\n",
        "$$\\mathbf{X}^T\\mathbf{Y}-\\mathbf{X}^T\\mathbf{X}\\beta =\\lambda\\beta $$ \n",
        "$$\\mathbf{X}^T\\mathbf{Y} = \\beta(\\lambda\\mathbf{I}+\\mathbf{X}^T\\mathbf{X})$$\n",
        "$\\mathbf{X}^T\\mathbf{X}=\\mathbf{I}$\n",
        "\n",
        "$$\\beta = \\mathbf{X}^T\\mathbf{Y} (\\lambda\\mathbf{I}+\\mathbf{X}^T\\mathbf{X})^{-1}$$\n",
        "\n"
      ]
    },
    {
      "metadata": {
        "id": "JiokxXCpmD7L",
        "colab_type": "text"
      },
      "cell_type": "markdown",
      "source": [
        "## Problem 3: Frequentist Inference"
      ]
    },
    {
      "metadata": {
        "id": "xgFxIDOEmD7M",
        "colab_type": "text"
      },
      "cell_type": "markdown",
      "source": [
        "The problem of machine learning can be expressed as trying to infer a reproducible rule from data. Let's take the classic example of flipping a coin. In this problem, you friend claims that a coin is not fair and you want to prove them wrong. You're a *frequentist* though, so you draw your conclusions from sample data by emphasizing the frequency or proportion of the data.\n",
        "\n",
        "\n",
        "Let $\\{X_i\\}$ be a sequence of *independent* Bernoulli random variables with probability $p$, ie. \n",
        "$$\n",
        "\\begin{gather*}\n",
        "f(X_i) =\n",
        "\\begin{cases}\n",
        "  p & \\text{for } X_i=1\\\\    \n",
        "  1-p & \\text{for } X_i=0 \n",
        "\\end{cases}\n",
        "\\end{gather*}\n",
        "$$\n",
        "\n",
        "\n",
        "In this case, we assume here that we actually know $p$, but will attempt to derive $p$ from raw data *assuming we didn't know p*. The purpose of this is to establish consistency of our methods and to know that our estimate will be accurate in a problem where we don't have access to any knowledge of $p$. \n",
        "\n",
        "**References:** The following references may be useful for this exercise, but not are not required reading: \n",
        "\n",
        "https://en.wikipedia.org/wiki/Binomial_proportion_confidence_interval\n",
        "\n",
        "https://en.wikipedia.org/wiki/Binomial_distribution"
      ]
    },
    {
      "metadata": {
        "id": "i1IWIbVTmD7N",
        "colab_type": "text"
      },
      "cell_type": "markdown",
      "source": [
        "**[5 points]** a) You flip the coin $N$ times and observe $N$ heads. What would be your intuition about the value of $p$? Does it depend on $N$? What about $N/2$ heads?\n",
        "\n",
        "**Solution a:** $N$ heads: assume that $p=1$ and is independent of $N$.\n",
        "\n",
        "$\\frac{N}{2}$ heads: assume that $p=\\frac{1}{2}$ and is independent of $N$.\n",
        "\n"
      ]
    },
    {
      "metadata": {
        "id": "cffntKYEmD7P",
        "colab_type": "text"
      },
      "cell_type": "markdown",
      "source": [
        "**[5 points]** b) What is the probability of obtaining exactly $k$ heads out of $N$ flips? This is a well known distribution. Which one?\n",
        "\n",
        "**Solution b:** Binomial distribution: $$ f(D_{k,N} \\vert p) = \\begin{pmatrix}N \\\\ k\\end{pmatrix} p^k(1-p)^{N-k} $$"
      ]
    },
    {
      "metadata": {
        "id": "TgLROODdmD7V",
        "colab_type": "text"
      },
      "cell_type": "markdown",
      "source": [
        "**[10 points]** c) We can see that the number of heads out of $N$ flips can be written as\n",
        "\n",
        "$$Z_N := \\sum_{i=1}^N X_i.$$\n",
        "    \n",
        "Compute the expectation of $Z_N$. \n",
        "\n",
        "**Hint:** Recalling linearity of expectation will be helpful here:\n",
        "\n",
        "$$\\mathbb{E}\\left ( \\sum_{i=1}^N X_i \\right) = \\sum_{i=1}^N \\mathbb{E}(X_i). $$ Then compute the expectation of $\\mathbb{E}(X_i)$ in terms of $p$. \n",
        "\n",
        "**Solution c:** \n",
        "$$\\mathbb{E}\\left ( \\sum_{i=1}^N X_i \\right) = \\sum_{i=1}^N \\mathbb{E}(X_i) = \\sum_{i=1}^N p *(1) +(1-p)*0 = \\sum_{i=1}^N p = Np$$"
      ]
    },
    {
      "metadata": {
        "id": "Y9ieUwi5mD7X",
        "colab_type": "text"
      },
      "cell_type": "markdown",
      "source": [
        "**d)** Compute the variance of $\\tilde Z_N := \\frac{1}{N} Z_N$:\n",
        "   $$ \\textrm{Var}(\\tilde Z_N) := \\mathbb{E} \\left(\\tilde Z_n - \\mathbb{E}(\\tilde Z_N)\\right)^2.$$ \n",
        "  \n",
        "  Show that it can be written as\n",
        "  \n",
        "  $$ \\textrm{Var}(\\tilde Z_N) = \\frac{p(1-p)}{N}.$$\n",
        "  \n",
        "  **Hint:** Your computation should use statistical **independence** of $\\{X_i\\}_{i=1}^N$ at some point in the calculation after expanding $\\tilde Z_N^2$. This tells us that $\\mathbb{E}(X_i X_j) = \\mathbb{E}(X_i) \\mathbb{E}(X_j)$ for $i \\neq j$. In other words, since the coin flips are independent, we can find the expected value of the product of the outcome in terms of the product of the expected value of each coin flip independently. \n",
        "  \n",
        "**Solution d:** $$ \\textrm{Var}(\\tilde Z_N) = \\mathbb{E} \\left(\\tilde Z_N - \\mathbb{E}(\\tilde Z_N)\\right)^2=\\mathbb{E} (\\tilde Z_N^2)-(\\mathbb{E}(\\tilde Z_N ))^2$$ \n",
        "\n",
        "\n",
        "$Z_N^2 = \\sum_{i=1}^N X_i^2 = \\sum_{i=1}^N X_i^2 + 2\\sum_{i=1}^N \\sum_{j=1}^NX_i X_j  $\n",
        "\n",
        "\n",
        "$\\mathbb{E}(Z_N^2) =\\sum_{i=1}^N \\mathbb{E}X_i^2 +2 \\sum_{i=1}^N \\sum_{j=1}^N\\mathbb{E}(X_i X_j)=\\sum_{i=1}^N \\mathbb{E}X_i^2 +2 \\sum_{i=1}^N \\sum_{j=1}^N\\mathbb{E}(X_i) \\mathbb{E}(X_j) $\n",
        "\n",
        "\n",
        "$\\mathbb{E}(Z_N^2) = Np +\\sum_{i=1}^N \\sum_{j=1}^Np^2 = Np +\\sum_{j=1}^N jp^2 $\n",
        "\n",
        "$\\mathbb{E}(Z_N^2) = Np +p^2N(N-1)$\n",
        "\n",
        "\n",
        "$$ \\textrm{Var}(Z_N) =\\mathbb{E} (\\tilde Z_N^2)-(\\mathbb{E}(\\tilde Z_N ))^2 $$ \n",
        "\n",
        "$$ \\textrm{Var}(Z_N) =Np +p^2N(N-1) +(Np)^2 = Np +p^2N(N-1) +N^2p^2$$\n",
        "\n",
        "$$  \\textrm{Var}(Z_N) = Np +N^2p^2-Np^2 -N^2p^2 = Np-Np^2 $$ \n",
        "\n",
        "$$\\textrm{Var}(Z_N)=Np(1-p)$$\n",
        "\n",
        "$\\tilde Z_N := \\frac{1}{N} Z_N$\n",
        "\n",
        "$$\\textrm{Var}(\\tilde Z_N) =\\frac{p(1-p)}{N}$$\n"
      ]
    },
    {
      "metadata": {
        "id": "BcVDKR_KmD7Y",
        "colab_type": "text"
      },
      "cell_type": "markdown",
      "source": [
        "**[5 points]** e) Under the assumption $p=\\frac{1}{2}$, plot the probability of obtaining $k$ heads after $N$ trials for multiple values of $N$ and compare to the corresponding normal distribution with the same mean and variance you derived above. In other words, $\\mathcal{N}\\left(\\mathbb{E}( Z_N), p(1-p)N\\right)$. What do you notice about the two?\n",
        "\n",
        "**Note: You just need to runt his code. It is done for you already**"
      ]
    },
    {
      "metadata": {
        "id": "ta55WsV1mD7a",
        "colab_type": "code",
        "outputId": "5f71706e-9851-41d2-8022-45e42bac6227",
        "colab": {
          "base_uri": "https://localhost:8080/",
          "height": 537
        }
      },
      "cell_type": "code",
      "source": [
        "from scipy.stats import binom\n",
        "import matplotlib.pyplot as plt\n",
        "import numpy as np\n",
        "import matplotlib.mlab as mlab\n",
        "import math\n",
        "\n",
        "n, p = 10, 0.5\n",
        "fig, ax = plt.subplots(1, 1, figsize=(8,8))\n",
        "\n",
        "colors=['r','b','g','y','orange']\n",
        "i = 0\n",
        "\n",
        "for n in [10,20,30,40,50]:\n",
        "\n",
        "    rv = binom(n, p)\n",
        "    x = np.arange(binom.ppf(0.01, n, p),\n",
        "                  binom.ppf(0.99, n, p))\n",
        "    mu = n*p\n",
        "    variance = p*(1-p)*n\n",
        "    sigma = math.sqrt(variance)\n",
        "\n",
        "    plt.plot(x,mlab.normpdf(x, mu, sigma),color='turquoise',linewidth=5)\n",
        "\n",
        "\n",
        "    ax.plot(x, binom.pmf(x, n, p), 'bo', ms=8)\n",
        "    ax.vlines(x, 0, binom.pmf(x, n, p), colors=colors[i], lw=5, alpha=0.5,label=\"n={0}\".format(n))\n",
        "    i = i + 1\n",
        "    \n",
        "plt.plot(x,mlab.normpdf(x, mu, sigma),color='turquoise',linewidth=5, label='normal approx')\n",
        "ax.legend(loc='best', frameon=False)\n",
        "plt.show()"
      ],
      "execution_count": 1,
      "outputs": [
        {
          "output_type": "stream",
          "text": [
            "/usr/local/lib/python3.6/dist-packages/ipykernel_launcher.py:22: MatplotlibDeprecationWarning: scipy.stats.norm.pdf\n",
            "/usr/local/lib/python3.6/dist-packages/ipykernel_launcher.py:29: MatplotlibDeprecationWarning: scipy.stats.norm.pdf\n"
          ],
          "name": "stderr"
        },
        {
          "output_type": "display_data",
          "data": {
            "image/png": "[encoded data removed]",
            "text/plain": [
              "<Figure size 576x576 with 1 Axes>"
            ]
          },
          "metadata": {
            "tags": []
          }
        }
      ]
    },
    {
      "metadata": {
        "id": "5nXN_x25mD7i",
        "colab_type": "text"
      },
      "cell_type": "markdown",
      "source": [
        "The reason this is true is actually the **Central Limit Theorem**! This says that\n",
        "\n",
        "$$ Z_n := \\frac{ \\sum_{i=1}^N X_i - np}{\\sqrt{n p(1-p)}} \\to \\mathcal{N}(0,1).$$\n",
        "\n",
        "More precisely \n",
        "\n",
        "$$ \\lim_{n \\to +\\infty} P(a \\leq Z_n \\leq b) = \\frac{1}{\\sqrt{2\\pi }} \\int_a^b e^{-z^2/2} dz$$\n",
        "\n",
        "**Solution e:** As the $N$ increases, the variance also increases, as shown by the width of the distribution curve, becoming farther spread out from the mean. "
      ]
    },
    {
      "metadata": {
        "id": "KBWrqIFemD7j",
        "colab_type": "text"
      },
      "cell_type": "markdown",
      "source": [
        "**[10 points]** f) Now let's imagine that we don't know the true $p$, but we want to estimate it from the data. Let's define the **estimator**\n",
        "\n",
        "$$ \\hat p = \\frac{1}{N}\\sum_{i=1}^n X_i. $$\n",
        "\n",
        "\n",
        "Using the result of part e), conclude that we can write (you can assume here that $N$ is sufficiently large and $p$ is not near $0$ or $1$)\n",
        "\n",
        "$$ \\hat p = p + \\epsilon_n,$$\n",
        "\n",
        "where $\\epsilon_n$ is a normally distributed error term. Find the mean and variance of this normal distribution. **Note that we don't know what $p$ is so we will need to estimate $p$ with $\\hat p$ in the variance term you derived.** What happens to the variance as $n \\to +\\infty$? \n",
        "\n",
        "**Note:** An estimator is any estimate of a statistical quantity from data. It is usually denoted with a hat on top of the variable to denote this.  \n",
        "\n",
        "**Solution f:** \n",
        "$$\\epsilon_n =\\hat p-p =(\\frac{1}{N}\\sum_{i=1}^n X_i )- p  $$\n",
        "\n",
        "$$\\mathbb E(\\epsilon_n)=\\mathbb E (\\hat p-p) =\\mathbb E (\\hat p) - p = p-p= 0  $$\n",
        "\n",
        "$\\mathbb E (\\hat p) = p $\n",
        "\n",
        "$$\\textrm{Var}(\\epsilon_n) = \\mathbb E(\\hat p - \\mathbb E(p))^2 = \\mathbb E(\\hat p ^2) - (\\mathbb E(p))^2 = \\frac{p^2 -p}{N} = \\frac{p(1-p)}{N}$$\n",
        "\n",
        "As $N\\to +\\infty$ the variance will approach 0. "
      ]
    },
    {
      "metadata": {
        "id": "RDbQ9lwqmD7k",
        "colab_type": "text"
      },
      "cell_type": "markdown",
      "source": [
        "**[10 points]** g) Assume again that the real $p=1/2$ (but again we don't know this yet). For a normal random variable, we know that 95% of the data lies between roughly two standard deviations from the mean. In other words, if $Z \\sim \\mathcal{N}(\\mu,\\sigma)$ then \n",
        "\n",
        "$$ P(-1.96\\sigma \\leq Z - \\mu \\leq 1.96\\sigma) \\sim 0.95.$$\n",
        "\n",
        "\n",
        " Use the above equatoin combined with the result of part f) to find the number of flips $N$ so that our estimate $\\hat p$ is within $0.1$ of the actual value of $p=1/2$ with 95% confidence. \n",
        " \n",
        " **Solution g:** $\\sigma = \\sqrt{\\textrm Var} = \\sqrt{\\frac{p(1-p)}{N}}$\n",
        " \n",
        " Given: -0.1 $\\leq \\hat p -p \\leq$ 0.1\n",
        " and $$ P(-1.96\\sigma \\leq Z - \\mu \\leq 1.96\\sigma) $$\n",
        " \n",
        " $$1.96\\sigma \\leq 0.1$$\n",
        "  $$1.96\\sqrt{\\frac{p(1-p)}{N}} \\leq 0.1$$\n",
        "  $$1.96^2\\frac{(p-p^2)}{N} = \\leq 0.1^2$$\n",
        "  $$1.96^2\\frac{(p - p^2)}{0.1^2} \\leq N$$\n",
        "  $p=\\frac{1}{2}$\n",
        "  \n",
        "  $$1.96^2\\frac{(\\frac{1}{4})}{0.1^2} \\leq N$$\n",
        "  \n",
        "  $$96.04\\leq N$$\n",
        "  \n",
        "  \n",
        "  \n",
        "  \n",
        "  "
      ]
    },
    {
      "metadata": {
        "id": "sZKBLI4VmD7m",
        "colab_type": "text"
      },
      "cell_type": "markdown",
      "source": [
        "## Problem 4: Bayesian Inference"
      ]
    },
    {
      "metadata": {
        "id": "OBF3y_ximD7n",
        "colab_type": "text"
      },
      "cell_type": "markdown",
      "source": [
        "Your friend has a coin which they claim is *unbiased*, ie. the probability of getting a heads or tails is 0.5. You've now decided to become a *Bayesian*, and believe probability expresses a degree of belief in an event, which can change as new information is gathered, rather than a fixed value based upon frequency or propensity\n",
        "\n",
        "\n",
        "\n",
        " You therefore define your initial *prior* on the bias of the coin which is a distribution, ie. \n",
        "\n",
        "$$ f_0(p) = 1 \\textrm{ for } p \\in [0,1],$$\n",
        "\n",
        "where $p$ is the probability of the coin being heads (called the *bias*), $f_0(p)$ is the pdf of the distribution of possible biases of the coin. For example, if you knew that the coin was exactly fair, then that would mean that $f_0(p) = \\delta_{p=1/2}$ where $\\delta_{x}$ is the Dirac delta function centered at x (https://en.wikipedia.org/wiki/Dirac_delta_function).\n",
        "\n",
        "a) **[10 points]** What is the probability of observing exactly $k$ heads out of $N$ flips if the coin bias is $p$? Let $D_{k,N}$ represent the data you observe, which is k heads out of N flips (this is a well known distribution):\n",
        "\n",
        "$$ f(D_{k,N} \\vert p) = ?$$\n",
        "\n",
        "**Solution a:** $$ f(D_{k,N} \\vert p) = \\begin{pmatrix}N \\\\ k\\end{pmatrix} p^k(1-p)^{N-k} $$\n",
        "\n",
        "\n",
        "b) **[5 points]** You flip the coin $N$ times and observe $k=N$ heads. If $N$ was large, what is your intuition about what the bias of the coin is?\n",
        "\n",
        "**Solution b:** $$ f(D_{N,N} \\vert p) = \\begin{pmatrix}N \\\\ N\\end{pmatrix} p^N(1-p)^{N-N} = \\frac{N!}{(N-N)!N!} p^N = \\frac{N!}{0!N!} p^N = \\frac{N!}{1N!} p^N = p^N $$\n",
        "\n",
        "My intuition about the bias of the coin is that as you increase the number of tosses of the coin, the probability decreases exponentially. \n",
        "\n",
        "\n",
        "c) **[10 points]** Let's quantify this now. What is your updated *posterior distribution* on the bias of the coin p? Use **Bayes theorem** here:\n",
        "\n",
        "$$f(p \\lvert D_{N,N}) = \\frac{f(D_{N,N} \\lvert p) f_0(p)}{\\int f(D_{N,N} |s) f_0(s)ds}, $$\n",
        "\n",
        "where $D$ is your observed data. In this case $N$ heads out of $N$ flips. Recall that the posterior (here denoted $f(p \\lvert D_{N,N})$), is the distribution which has been updated with the additional observations you've made).\n",
        "\n",
        "**Hint:** You will end up with a simple integral in the denominator. \n",
        "\n",
        "**Solution c:** $$f(p \\lvert D_{N,N}) = \\frac{f(D_{N,N} \\lvert p) f_0(p)}{\\int f(D_{N,N} |s) f_0(s)ds} = \\frac{p^N * 1}{\\int_0^1 s^N *1 ds} = \\frac{p^N}{\\frac{1}{N+1}} = {p^N(N+1)}$$\n",
        "\n",
        "d) **[5 points]** What is $\\mathbb{E}(p \\lvert D)$? The expected bias conditioned on the observed data:\n",
        "\n",
        "$$ \\mathbb{E}(p \\lvert D_{N,N}) := \\int_0^1 p f(p \\lvert D_{N,N})dp?$$\n",
        "\n",
        "What happens as $$\\lim_{N \\to +\\infty} \\mathbb{E}(p \\lvert D_{N,N})?$$\n",
        "\n",
        "**Solution d:** $$ \\mathbb{E}(p \\lvert D_{N,N}) = \\frac{N+1}{N+2}$$\n",
        "\n",
        "Using L'Hopital's rule: \n",
        "$$\\lim_{N \\to +\\infty} \\mathbb{E}(p \\lvert D_{N,N}) = 1$$\n",
        "\n",
        "\n",
        "e) **[15 points]** What happens to $f(p \\lvert D_{N,N})$ as $N \\to +\\infty$? Characterize the limiting distribution. What is your interpretation of this result? A rigorous argument isn't required. \n",
        "\n",
        "**Hint 1:** We already discussed what \"perfect certainty\" would mean in terms of the distribution. \n",
        "\n",
        "**Hint 2:** Consider carefully the seperate cases $0 \\leq p < 1$ and $p=1$ and recall that $\\int_p f(p \\lvert D_{N,N})dp = 1$ for all $N$. Also consider what 100% confidence would mean in terms of the distribution. \n",
        "\n",
        "**Solution e:** $$\\lim_{N \\to +\\infty} \\mathbb f(p \\lvert D_{N,N}) = p^N (N+1)$$\n",
        "\n",
        "If we assume that $$ (N+1) \\approx (N) $$, then the limit becomes  $$\\lim_{N \\to +\\infty} \\mathbb f(p \\lvert D_{N,N}) = p^N (N)$$\n",
        "\n",
        "Depending on the value of p, which can only be between 0 and 1: \n",
        "\n",
        "if $p=1$, then $$\\lim_{N \\to +\\infty} \\mathbb f(p \\lvert D_{N,N}) = p^N (N) = \\infty$$\n",
        "\n",
        "if $p>1$, then $$\\lim_{N \\to +\\infty} \\mathbb f(p \\lvert D_{N,N}) = p^N (N) = 0$$\n",
        "\n",
        "f) **[10 points]** Repeat c) but in the case that you observe $k=N/2$ heads out of $N$ trials. Do not try to compute the integral, but hypothesisze what happens as $N \\to +\\infty$.\n",
        "\n",
        "**Solution f:** $$ f(D_{k,N} \\vert p) = \\begin{pmatrix}N \\\\ k\\end{pmatrix} p^k(1-p)^{N-k} = \\frac{N! p^{\\frac{N}{2}}(1-p)^{\\frac{N}{2}}}{(\\frac{N}{2})!(\\frac{N}{2})!} $$\n",
        "\n",
        "$$f(p \\lvert D_{k,N}) = \\frac{f(D_{k,N} \\lvert p) f_0(p)}{\\int f(D_{k,N} |s) f_0(s)ds} =\\frac{p^{\\frac{N}{2}}(1-p)^{\\frac{N}{2}}}{\\int_0^1 s^{\\frac{N}{2}}(1-s)^{\\frac{N}{2}}ds}$$\n",
        "\n",
        "I would assume that as $N \\to +\\infty$, this would follow similar patterns as described above, when $k=N$. \n"
      ]
    },
    {
      "metadata": {
        "id": "aYdk_2q2mD7p",
        "colab_type": "code",
        "colab": {}
      },
      "cell_type": "code",
      "source": [
        ""
      ],
      "execution_count": 0,
      "outputs": []
    },
    {
      "metadata": {
        "id": "q-Qx4PQUmD7t",
        "colab_type": "code",
        "colab": {}
      },
      "cell_type": "code",
      "source": [
        ""
      ],
      "execution_count": 0,
      "outputs": []
    },
    {
      "metadata": {
        "id": "7echVYtTmD7y",
        "colab_type": "code",
        "colab": {}
      },
      "cell_type": "code",
      "source": [
        ""
      ],
      "execution_count": 0,
      "outputs": []
    },
    {
      "metadata": {
        "id": "MKAOURpMmD71",
        "colab_type": "code",
        "colab": {}
      },
      "cell_type": "code",
      "source": [
        ""
      ],
      "execution_count": 0,
      "outputs": []
    }
  ]
}